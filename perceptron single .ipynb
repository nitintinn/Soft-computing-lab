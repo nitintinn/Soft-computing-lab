{
  "nbformat": 4,
  "nbformat_minor": 0,
  "metadata": {
    "colab": {
      "provenance": [],
      "authorship_tag": "ABX9TyNCH0I+/LSe3/I4q6B4G0Ra",
      "include_colab_link": true
    },
    "kernelspec": {
      "name": "python3",
      "display_name": "Python 3"
    },
    "language_info": {
      "name": "python"
    }
  },
  "cells": [
    {
      "cell_type": "markdown",
      "metadata": {
        "id": "view-in-github",
        "colab_type": "text"
      },
      "source": [
        "<a href=\"https://colab.research.google.com/github/nitintinn/Soft-computing-lab/blob/main/perceptron%20single%20.ipynb\" target=\"_parent\"><img src=\"https://colab.research.google.com/assets/colab-badge.svg\" alt=\"Open In Colab\"/></a>"
      ]
    },
    {
      "cell_type": "code",
      "source": [
        "import numpy as np\n",
        "# x1 and x2 are inputs\n",
        "x1 = [0, 0, 1, 1]\n",
        "x2 = [0, 1, 0, 1]\n",
        "\n",
        "#target are the actual values\n",
        "target = [ 0, 0, 0, 0]\n",
        "\n",
        "weights = [1, 1, 1]\n",
        "\n",
        "#learning rate of perceptron model\n",
        "lr_rate = 1\n",
        "\n",
        "#epochs are the number of time loop will run\n",
        "epochs = 10\n",
        "\n",
        "def threshold(x):\n",
        "  print(\"x :\", x)\n",
        "  if x>=0:\n",
        "    return 1\n",
        "  else:\n",
        "    return 0\n",
        "\n",
        "for i in range(50):\n",
        "    error=[]\n",
        "    print(\"iteration Number: \",i)\n",
        "    k=0\n",
        "    for i in range(4):\n",
        "        print(\"input data: \", x1[i], x2[i])\n",
        "        s=0\n",
        "        s+=1*weights[0]+x1[i]*weights[1]+x2[i]*weights[2]\n",
        "        result=threshold(s)\n",
        "        print(\"obtained Output: \",result)\n",
        "        error.append(target[i]-result)\n",
        "        print(\"Error: \", error[i])\n",
        "        if error[i]!=0:\n",
        "            k+=1\n",
        "            weights[0]=weights[0]+error[i]*1*lr_rate\n",
        "            weights[1]=weights[1]+error[i]*x1[i]*lr_rate\n",
        "            weights[2]+=error[i]*x2[i]*lr_rate\n",
        "        print(\"After updation: \")\n",
        "        print(weights)\n",
        "\n",
        "    if k==0:\n",
        "        print(\"Model trained perfectly\")\n",
        "        print(error)\n",
        "        break\n",
        "\n",
        "\n"
      ],
      "metadata": {
        "colab": {
          "base_uri": "https://localhost:8080/"
        },
        "id": "JmNUVpA2XUJN",
        "outputId": "c9bcb1df-c7d2-4e75-874b-5a5e628a760b"
      },
      "execution_count": null,
      "outputs": [
        {
          "output_type": "stream",
          "name": "stdout",
          "text": [
            "iteration Number:  0\n",
            "input data:  0 0\n",
            "x : 1\n",
            "obtained Output:  1\n",
            "Error:  -1\n",
            "After updation: \n",
            "[0, 1, 1]\n",
            "input data:  0 1\n",
            "x : 1\n",
            "obtained Output:  1\n",
            "Error:  -1\n",
            "After updation: \n",
            "[-1, 1, 0]\n",
            "input data:  1 0\n",
            "x : 0\n",
            "obtained Output:  1\n",
            "Error:  -1\n",
            "After updation: \n",
            "[-2, 0, 0]\n",
            "input data:  1 1\n",
            "x : -2\n",
            "obtained Output:  0\n",
            "Error:  0\n",
            "After updation: \n",
            "[-2, 0, 0]\n",
            "iteration Number:  1\n",
            "input data:  0 0\n",
            "x : -2\n",
            "obtained Output:  0\n",
            "Error:  0\n",
            "After updation: \n",
            "[-2, 0, 0]\n",
            "input data:  0 1\n",
            "x : -2\n",
            "obtained Output:  0\n",
            "Error:  0\n",
            "After updation: \n",
            "[-2, 0, 0]\n",
            "input data:  1 0\n",
            "x : -2\n",
            "obtained Output:  0\n",
            "Error:  0\n",
            "After updation: \n",
            "[-2, 0, 0]\n",
            "input data:  1 1\n",
            "x : -2\n",
            "obtained Output:  0\n",
            "Error:  0\n",
            "After updation: \n",
            "[-2, 0, 0]\n",
            "Model trained perfectly\n",
            "[0, 0, 0, 0]\n"
          ]
        }
      ]
    },
    {
      "cell_type": "code",
      "source": [],
      "metadata": {
        "id": "fQpk432zXe2d"
      },
      "execution_count": null,
      "outputs": []
    }
  ]
}